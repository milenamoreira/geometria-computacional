{
 "cells": [
  {
   "cell_type": "code",
   "execution_count": 1,
   "metadata": {},
   "outputs": [
    {
     "name": "stdout",
     "output_type": "stream",
     "text": [
      "Collecting bintrees\n",
      "  Downloading bintrees-2.2.0-cp39-cp39-win_amd64.whl (64 kB)\n",
      "     ---------------------------------------- 64.2/64.2 kB 1.1 MB/s eta 0:00:00\n",
      "Installing collected packages: bintrees\n",
      "Successfully installed bintrees-2.2.0\n",
      "Note: you may need to restart the kernel to use updated packages.\n"
     ]
    }
   ],
   "source": [
    "pip install bintrees\n"
   ]
  },
  {
   "cell_type": "code",
   "execution_count": 17,
   "metadata": {},
   "outputs": [],
   "source": [
    "# classe para representar pontos bidimensionais no espaço\n",
    "class Ponto:\n",
    "    def __init__(self, x, y):\n",
    "        self.x = x\n",
    "        self.y = y\n",
    "    def __str__(self):\n",
    "        return f'({self.x}, {self.y})'"
   ]
  },
  {
   "cell_type": "code",
   "execution_count": 18,
   "metadata": {},
   "outputs": [
    {
     "name": "stdout",
     "output_type": "stream",
     "text": [
      "1 (1, 2) (2, 3)\n",
      "3 (3, 2) (5, 3)\n",
      "7 (7, 2) (8, 3)\n"
     ]
    }
   ],
   "source": [
    "from bintrees import AVLTree\n",
    "\n",
    "tree = AVLTree()\n",
    "tree.insert(1, (Ponto(1,2), Ponto(2,3)))\n",
    "tree.insert(3, (Ponto(3,2), Ponto(5,3)))\n",
    "tree.insert(7, (Ponto(7,2), Ponto(8,3)))\n",
    "\n",
    "# Função para percorrer a árvore em ordem e imprimir os elementos\n",
    "def inorder_traversal(node):\n",
    "    if node is not None:\n",
    "        # Percorre a subárvore esquerda\n",
    "        inorder_traversal(node.left)\n",
    "        # Imprime o nó atual\n",
    "        print(node.key, node.value[0], node.value[1])\n",
    "        # Percorre a subárvore direita\n",
    "        inorder_traversal(node.right)\n",
    "\n",
    "# Chamando a função de travessia em ordem\n",
    "inorder_traversal(tree._root)"
   ]
  },
  {
   "cell_type": "code",
   "execution_count": null,
   "metadata": {},
   "outputs": [],
   "source": [
    "from bintrees import AVLTree\n",
    "\n",
    "class SegmentTree:\n",
    "    def __init__(self):\n",
    "        self.tree = AVLTree()\n",
    "\n",
    "    def add_segment(self, segment):\n",
    "        self.tree[segment] = True\n",
    "\n",
    "    def any_segment_intersects(self, new_segment):\n",
    "        for existing_segment in self.tree:\n",
    "            if self.segments_intersect(existing_segment, new_segment):\n",
    "                return True\n",
    "        return False\n",
    "\n",
    "    def segments_intersect(self, segment1, segment2):\n",
    "        # Lógica para verificar se os segmentos se intersectam\n",
    "        # Aqui você precisa implementar a lógica específica para verificar a interseção\n",
    "        # Este é apenas um esboço, substitua pelo código real.\n",
    "        return True  # Altere para retornar True se houver interseção, False caso contrário\n",
    "\n",
    "# Exemplo de uso\n",
    "segment_tree = SegmentTree()\n",
    "\n",
    "# Adicionando segmentos à árvore\n",
    "segment_tree.add_segment(((0, 0), (2, 2)))\n",
    "segment_tree.add_segment(((1, 1), (3, 3)))\n",
    "\n",
    "# Testando se algum segmento se intersecta com um novo segmento\n",
    "new_segment = ((2, 0), (4, 2))\n",
    "intersects = segment_tree.any_segment_intersects(new_segment)\n",
    "\n",
    "print(f\"Segmento {new_segment} se intersecta com algum segmento existente? {intersects}\")\n"
   ]
  },
  {
   "cell_type": "code",
   "execution_count": null,
   "metadata": {},
   "outputs": [],
   "source": [
    "def segments_intersect(segment1, segment2):\n",
    "    def orientation(p, q, r):\n",
    "        val = (q[1] - p[1]) * (r[0] - q[0]) - (q[0] - p[0]) * (r[1] - q[1])\n",
    "        if val == 0:\n",
    "            return 0  # Colinear\n",
    "        return 1 if val > 0 else 2  # Horário ou anti-horário\n",
    "\n",
    "    def on_segment(p, q, r):\n",
    "        return (q[0] <= max(p[0], r[0]) and q[0] >= min(p[0], r[0]) and\n",
    "                q[1] <= max(p[1], r[1]) and q[1] >= min(p[1], r[1]))\n",
    "\n",
    "    p1, q1 = segment1\n",
    "    p2, q2 = segment2\n",
    "\n",
    "    o1 = orientation(p1, q1, p2)\n",
    "    o2 = orientation(p1, q1, q2)\n",
    "    o3 = orientation(p2, q2, p1)\n",
    "    o4 = orientation(p2, q2, q1)\n",
    "\n",
    "    # Caso geral\n",
    "    if o1 != o2 and o3 != o4:\n",
    "        return True\n",
    "\n",
    "    # Casos especiais\n",
    "    if o1 == 0 and on_segment(p1, p2, q1):\n",
    "        return True\n",
    "    if o2 == 0 and on_segment(p1, q2, q1):\n",
    "        return True\n",
    "    if o3 == 0 and on_segment(p2, p1, q2):\n",
    "        return True\n",
    "    if o4 == 0 and on_segment(p2, q1, q2):\n",
    "        return True\n",
    "\n",
    "    return False\n",
    "\n",
    "# Exemplo de uso\n",
    "segment1 = ((0, 0), (2, 2))\n",
    "segment2 = ((1, 1), (3, 3))\n",
    "segment3 = ((2, 0), (4, 2))\n",
    "\n",
    "print(f\"Interseção entre segmento 1 e segmento 2: {segments_intersect(segment1, segment2)}\")\n",
    "print(f\"Interseção entre segmento 1 e segmento 3: {segments_intersect(segment1, segment3)}\")\n"
   ]
  }
 ],
 "metadata": {
  "kernelspec": {
   "display_name": "base",
   "language": "python",
   "name": "python3"
  },
  "language_info": {
   "codemirror_mode": {
    "name": "ipython",
    "version": 3
   },
   "file_extension": ".py",
   "mimetype": "text/x-python",
   "name": "python",
   "nbconvert_exporter": "python",
   "pygments_lexer": "ipython3",
   "version": "3.9.13"
  }
 },
 "nbformat": 4,
 "nbformat_minor": 2
}
