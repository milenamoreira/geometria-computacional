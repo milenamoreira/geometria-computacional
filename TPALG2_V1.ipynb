{
  "cells": [
    {
      "cell_type": "markdown",
      "metadata": {
        "id": "QLSK7AzKoHpu"
      },
      "source": [
        "# 0. Bibliotecas"
      ]
    },
    {
      "cell_type": "code",
      "execution_count": null,
      "metadata": {
        "id": "jvT4h1XCoGaT"
      },
      "outputs": [],
      "source": [
        "# mover os imports para cá"
      ]
    },
    {
      "cell_type": "markdown",
      "metadata": {
        "id": "Z5yYfrHNnKzr"
      },
      "source": [
        "# 1. Datasets"
      ]
    },
    {
      "cell_type": "code",
      "execution_count": null,
      "metadata": {
        "id": "bunB5ySCnUVy"
      },
      "outputs": [],
      "source": [
        "# carregar todos os datasets aqui"
      ]
    },
    {
      "cell_type": "markdown",
      "metadata": {
        "id": "LMOMQ1jTfBOb"
      },
      "source": [
        "# 2. Pré-processamento dos dados"
      ]
    },
    {
      "cell_type": "markdown",
      "metadata": {
        "id": "BWQys5CLe_Tv"
      },
      "source": [
        "Uma vez que vamos trabalhar apenas com pontos no plano cartesiano, precisamos transformar nossos dados em uma **matriz bidimensional**. Para isso, utilizaremos a técnica **SVD** (Singular Value Decomposition) que reduz uma matriz *n*-dimensional em uma matriz *k*-dimensional, onde *k* é o número de fatores latentes. Para nosso trabalho, *k* é sempre 2."
      ]
    },
    {
      "cell_type": "code",
      "execution_count": 2,
      "metadata": {
        "id": "EDIxk7Ucfcab"
      },
      "outputs": [],
      "source": [
        "import numpy as np\n",
        "import pandas as pd\n",
        "import matplotlib.pyplot as plt\n",
        "\n",
        "from sklearn import datasets\n",
        "iris = datasets.load_iris() # apenas o iris tem duas classes linearmente separáveis\n",
        "digits = datasets.load_digits()\n",
        "wine = datasets.load_wine()\n",
        "cancer = datasets.load_breast_cancer()\n",
        "\n",
        "df = pd.DataFrame(iris.data, columns=iris.feature_names)\n",
        "df['Target'] = pd.DataFrame(iris.target)\n"
      ]
    },
    {
      "cell_type": "code",
      "execution_count": 3,
      "metadata": {
        "id": "mgTcBbm0hB8V"
      },
      "outputs": [],
      "source": [
        "from sklearn.decomposition import TruncatedSVD\n",
        "\n",
        "svd = TruncatedSVD(n_components=2, n_iter=4, random_state=42)\n",
        "data_points = svd.fit_transform(df)"
      ]
    },
    {
      "cell_type": "code",
      "execution_count": null,
      "metadata": {
        "id": "tV31bFCHOrUs"
      },
      "outputs": [],
      "source": [
        "df_new = pd.DataFrame(data_points, columns=['x','y'])\n",
        "df_new['Target'] = pd.DataFrame(iris.target)\n",
        "df_new"
      ]
    },
    {
      "cell_type": "markdown",
      "metadata": {
        "id": "KGmPiwOTUxst"
      },
      "source": [
        "# 3. Envoltória Convexa"
      ]
    },
    {
      "cell_type": "code",
      "source": [
        "# classe para represemtar segmentos de reta no espaço\n",
        "class Segment:\n",
        "    def __init__(self, left, right):\n",
        "        self.left = left\n",
        "        self.right = right"
      ],
      "metadata": {
        "id": "Idak_-IO909Y"
      },
      "execution_count": 5,
      "outputs": []
    },
    {
      "cell_type": "code",
      "execution_count": 6,
      "metadata": {
        "id": "bbl3LqtOU03z"
      },
      "outputs": [],
      "source": [
        "# classe para representar pontos bidimensionais no espaço\n",
        "class Ponto:\n",
        "    def __init__(self, x, y):\n",
        "        self.x = x\n",
        "        self.y = y"
      ]
    },
    {
      "cell_type": "code",
      "execution_count": 7,
      "metadata": {
        "id": "60tcTuHKJL52"
      },
      "outputs": [],
      "source": [
        "#calculando o produto vetorial entre segmentos ab e ac, a = ancora\n",
        "def produto_vetorial(ancora, b, c):\n",
        "    return ((b.x-ancora.x)*(c.y-ancora.y) - (c.x-ancora.x)*(b.y-ancora.y))\n"
      ]
    },
    {
      "cell_type": "code",
      "execution_count": 8,
      "metadata": {
        "id": "H8YQadwWJOpr"
      },
      "outputs": [],
      "source": [
        "# encontrando o ponto mais embaixo em relação a y\n",
        "def mais_a_esquerda(pontos):\n",
        "    min = 0\n",
        "    for i in range(1,len(pontos)):\n",
        "        if pontos[i].y < pontos[min].y:\n",
        "            min = i\n",
        "        elif pontos[i].y == pontos[min].y:\n",
        "            if pontos[i].x < pontos[min].x: # em caso de empate, escolhemos o ponto mais a esquerda\n",
        "                min = i\n",
        "    return min"
      ]
    },
    {
      "cell_type": "code",
      "execution_count": 9,
      "metadata": {
        "id": "QOetVj0GU59o"
      },
      "outputs": [],
      "source": [
        "# funcao que recebe um vetor de pontos, e retorna lista com pontos da envoltoria convexa\n",
        "def gift_wrapping(pontos):\n",
        "    i_esquerda = mais_a_esquerda(pontos) # guarda indice do ponto mais a esquerda\n",
        "    p = pontos[i_esquerda]\n",
        "\n",
        "    prox = (i_esquerda + 1) % len(pontos)\n",
        "\n",
        "    teste = 0\n",
        "\n",
        "    envoltoria = [] #incializa envoltoria vazia\n",
        "    envoltoria.append(p) # adiciona ponto mais à esquerda a envoltoria\n",
        "\n",
        "    q = p\n",
        "    while(True):\n",
        "        # calcula o prox ponto da envoltoria\n",
        "        while(teste != len(pontos)):\n",
        "            det = produto_vetorial(q, pontos[prox], pontos[teste])\n",
        "            if det < 0: # se for negativo, pontos[teste] tem o menor angulo polar,sendo o prox ponto da envoltoria\n",
        "                prox = teste\n",
        "            # atualiza teste\n",
        "            teste = teste+1;\n",
        "\n",
        "        # se tivermos retornados a ancora, loop acaba\n",
        "        if p == pontos[prox]:\n",
        "            break\n",
        "\n",
        "        # adiciona ponto a envoltoria\n",
        "        envoltoria.append(pontos[prox])\n",
        "\n",
        "        # atualiza variáveis\n",
        "        q = pontos[prox]\n",
        "        prox = (prox + 1) % len(pontos)\n",
        "        teste = 0\n",
        "\n",
        "    return envoltoria"
      ]
    },
    {
      "cell_type": "code",
      "execution_count": 10,
      "metadata": {
        "id": "l8UX5lueVG4L"
      },
      "outputs": [],
      "source": [
        "pontos = [Ponto(x, y) for x, y in data_points]\n",
        "envoltoria = gift_wrapping(pontos)"
      ]
    },
    {
      "cell_type": "code",
      "execution_count": null,
      "metadata": {
        "id": "IDS6mi46V0iD"
      },
      "outputs": [],
      "source": [
        "# Criando listas separadas para nomes e idades\n",
        "Xs1 = [ponto.x for ponto in pontos]\n",
        "Ys1 = [ponto.y for ponto in pontos]\n",
        "\n",
        "Xs2 = [ponto.x for ponto in envoltoria]\n",
        "Ys2 = [ponto.y for ponto in envoltoria]\n",
        "\n",
        "# Adicionando o primeiro ponto da envoltória ao final para fechar a forma\n",
        "Xs2.append(envoltoria[0].x)\n",
        "Ys2.append(envoltoria[0].y)\n",
        "\n",
        "# Plotando um gráfico de barras\n",
        "plt.scatter(Xs1, Ys1, c=iris.target, s=20)\n",
        "plt.plot(Xs2, Ys2, linestyle='-', marker='o', color='orange')\n",
        "plt.xlabel('x')\n",
        "plt.ylabel('x')\n",
        "plt.title('Envoltória Convexa')\n",
        "plt.show()"
      ]
    },
    {
      "cell_type": "code",
      "execution_count": null,
      "metadata": {
        "id": "3csh0mJZMYdY"
      },
      "outputs": [],
      "source": [
        "# testando envoltoria com a matriz bidimensional\n",
        "plt.clf()\n",
        "plt.figure(figsize = (10, 6))\n",
        "names = iris.target_names\n",
        "label = (iris.target).astype(int)\n",
        "colors = ['b','r','g']\n",
        "for i in range(len(names)):\n",
        "    bucket = df_new[df_new['Target'] == i]\n",
        "    bucket = bucket.iloc[:,[0,1]].values\n",
        "    bucket_points = [Ponto(x, y) for x, y in bucket]\n",
        "    envoltoria[i] = gift_wrapping(bucket_points)\n",
        "    Xs1 = [ponto.x for ponto in bucket_points]\n",
        "    Ys1 = [ponto.y for ponto in bucket_points]\n",
        "    plt.scatter(Xs1, Ys1, s=20)\n",
        "    Xs2 = [ponto.x for ponto in envoltoria[i]]\n",
        "    Ys2 = [ponto.y for ponto in envoltoria[i]]\n",
        "    Xs2.append(envoltoria[i][0].x)\n",
        "    Ys2.append(envoltoria[i][0].y)\n",
        "    for j in envoltoria:\n",
        "        plt.plot(Xs2, Ys2, linestyle='-', marker='o', color='orange')\n",
        "plt.legend()\n",
        "plt.show()"
      ]
    },
    {
      "cell_type": "code",
      "execution_count": null,
      "metadata": {
        "id": "75e5QrmbUUQJ"
      },
      "outputs": [],
      "source": [
        "#testando envoltoria com matriz inteira NAO EXECUTAR SE FOR TESTAR VARREDURA LINEAR\n",
        "plt.clf()\n",
        "plt.figure(figsize = (10, 6))\n",
        "names = iris.target_names\n",
        "label = (iris.target).astype(int)\n",
        "colors = ['b','r','g']\n",
        "plt.title('Petal Width vs Petal Length')\n",
        "plt.xlabel(iris.feature_names[2])\n",
        "plt.ylabel(iris.feature_names[3])\n",
        "for i in range(len(names)):\n",
        "    bucket = df[df['Target'] == i]\n",
        "    bucket = bucket.iloc[:,[2,3]].values\n",
        "    bucket_points = [Ponto(x, y) for x, y in bucket]\n",
        "    envoltoria = gift_wrapping(bucket_points)\n",
        "    Xs1 = [ponto.x for ponto in bucket_points]\n",
        "    Ys1 = [ponto.y for ponto in bucket_points]\n",
        "    plt.scatter(Xs1, Ys1, s=20)\n",
        "    Xs2 = [ponto.x for ponto in envoltoria]\n",
        "    Ys2 = [ponto.y for ponto in envoltoria]\n",
        "    Xs2.append(envoltoria[0].x)\n",
        "    Ys2.append(envoltoria[0].y)\n",
        "    for j in envoltoria:\n",
        "        plt.plot(Xs2, Ys2, linestyle='-', marker='o', color='orange')\n",
        "plt.legend()\n",
        "plt.show()"
      ]
    },
    {
      "cell_type": "markdown",
      "source": [
        "# 4. Varredura Linear\n"
      ],
      "metadata": {
        "id": "8eowpE_sXEiJ"
      }
    },
    {
      "cell_type": "code",
      "source": [
        "# testando com uma envoltoria apenas\n",
        "line_segments = [Segment(envoltoria[0][i], envoltoria[0][i+1]) for i in range(len(envoltoria[0])-1)]\n",
        "line_segments.append(Segment(envoltoria[0][-1], envoltoria[0][0]))"
      ],
      "metadata": {
        "id": "HdIdvy3aYclo"
      },
      "execution_count": 22,
      "outputs": []
    },
    {
      "cell_type": "code",
      "source": [
        "# A point in 2D plane\n",
        "import bisect\n",
        "# An event for sweep line algorithm\n",
        "# An event has a point, the position\n",
        "# of point (whether left or right) and\n",
        "# index of point in the original input\n",
        "# array of segments.\n",
        "class Event:\n",
        "    def __init__(self, x, y, isLeft, index):\n",
        "        self.x = x\n",
        "        self.y = y\n",
        "        self.isLeft = isLeft\n",
        "        self.index = index\n",
        "\n",
        "    # This is for maintaining the order in set.\n",
        "    def __lt__(self, e):\n",
        "        if self.y == e.y:\n",
        "            return self.x < e.x\n",
        "        return self.y < e.y\n"
      ],
      "metadata": {
        "id": "oOzb7vK4-QDU"
      },
      "execution_count": 23,
      "outputs": []
    },
    {
      "cell_type": "code",
      "source": [
        "# Given three collinear points p, q, r, the function checks if\n",
        "# point q lies on line segment 'pr'\n",
        "def onSegment(p, q, r):\n",
        "    if (q.x <= max(p.x, r.x) and q.x >= min(p.x, r.x) and\n",
        "        q.y <= max(p.y, r.y) and q.y >= min(p.y, r.y)):\n",
        "        return True\n",
        "    return False\n"
      ],
      "metadata": {
        "id": "p0WvWvWe-c6E"
      },
      "execution_count": 24,
      "outputs": []
    },
    {
      "cell_type": "code",
      "source": [
        "# To find orientation of ordered triplet (p, q, r).\n",
        "# The function returns following values\n",
        "# 0 --> p, q and r are collinear\n",
        "# 1 --> Clockwise\n",
        "# 2 --> Counterclockwise\n",
        "\n",
        "#é produto vetorial ? # milena\n",
        "def orientation(p, q, r):\n",
        "    val = (q.y - p.y) * (r.x - q.x) - (q.x - p.x) * (r.y - q.y)\n",
        "    if val == 0:\n",
        "        return 0  # collinear\n",
        "    return 1 if val > 0 else 2  # clock or counterclock wise"
      ],
      "metadata": {
        "id": "3mZT52Nb-1aM"
      },
      "execution_count": 25,
      "outputs": []
    },
    {
      "cell_type": "code",
      "source": [
        "\n",
        "# The main function that returns true if line segment 'p1q1'\n",
        "# and 'p2q2' intersect.\n",
        "def doIntersect(s1, s2):\n",
        "    p1, q1, p2, q2 = s1.left, s1.right, s2.left, s2.right\n",
        "\n",
        "    # Find the four orientations needed for general and\n",
        "    # special cases\n",
        "    o1 = orientation(p1, q1, p2)\n",
        "    o2 = orientation(p1, q1, q2)\n",
        "    o3 = orientation(p2, q2, p1)\n",
        "    o4 = orientation(p2, q2, q1)\n",
        "\n",
        "    # General case\n",
        "    if o1 != o2 and o3 != o4:\n",
        "        return True\n",
        "\n",
        "    # Special Cases\n",
        "    # p1, q1 and p2 are collinear and p2 lies on segment p1q1\n",
        "    if o1 == 0 and onSegment(p1, p2, q1):\n",
        "        return True\n",
        "\n",
        "    # p1, q1 and q2 are collinear and q2 lies on segment p1q1\n",
        "    if o2 == 0 and onSegment(p1, q2, q1):\n",
        "        return True\n",
        "\n",
        "    # p2, q2 and p1 are collinear and p1 lies on segment p2q2\n",
        "    if o3 == 0 and onSegment(p2, p1, q2):\n",
        "        return True\n",
        "\n",
        "    # p2, q2 and q1 are collinear and q1 lies on segment p2q2\n",
        "    if o4 == 0 and onSegment(p2, q1, q2):\n",
        "        return True\n",
        "\n",
        "    return False  # Doesn't fall in any of the above cases"
      ],
      "metadata": {
        "id": "MhtdHVtAAbjn"
      },
      "execution_count": 26,
      "outputs": []
    },
    {
      "cell_type": "code",
      "source": [
        "# Find predecessor of iterator in s.\n",
        "# index = sorted(s).index(it)\n",
        "# return sorted(s)[index - 1] if index > 0 else None\n",
        "# Find predecessor of iterator in s.\n",
        "def pred(s, it):\n",
        "    prev_elem = None\n",
        "    for elem in s:\n",
        "        if elem.x == it.x and elem.y == it.y and elem.isLeft:\n",
        "            return prev_elem\n",
        "        if elem.isLeft:\n",
        "            prev_elem = elem\n",
        "    return None"
      ],
      "metadata": {
        "id": "_TJv-_JSAjEM"
      },
      "execution_count": 27,
      "outputs": []
    },
    {
      "cell_type": "code",
      "source": [
        "# Find successor of iterator in s.\n",
        "# index = sorted(s).index(it)\n",
        "# return sorted(s)[index + 1] if index < len(s) - 1 else None\n",
        "# Find successor of iterator in s.\n",
        "def succ(s, it):\n",
        "    for elem in s:\n",
        "        if elem.x == it.x and elem.y == it.y and elem.isLeft:\n",
        "            next_elem = None\n",
        "            for e in s:\n",
        "                if e.x > it.x or (e.x == it.x and e.y > it.y):\n",
        "                    if next_elem is None or (e.x < next_elem.x or (e.x == next_elem.x and e.y < next_elem.y)):\n",
        "                        next_elem = e\n",
        "            return next_elem\n",
        "    return None\n"
      ],
      "metadata": {
        "id": "VdNB_dRuB6Jp"
      },
      "execution_count": 28,
      "outputs": []
    },
    {
      "cell_type": "code",
      "source": [
        "# Returns true if any two lines intersect.\n",
        "def isIntersect(arr, n):\n",
        "    mp = {}  # Dicionário para manter o registro dos pares para os quais a interseção já foi verificada\n",
        "\n",
        "    # Adiciona todos os pontos a um vetor de eventos\n",
        "    e = []\n",
        "    for i in range(n):\n",
        "        e.append(Event(arr[i].left.x, arr[i].left.y, True, i))\n",
        "        e.append(Event(arr[i].right.x, arr[i].right.y, False, i))\n",
        "\n",
        "    # Ordena todos os eventos de acordo com a coordenada x.\n",
        "    e.sort(key=lambda x: x.x)\n",
        "\n",
        "    #Para armazenar os segmentos ativos.\n",
        "    s = set()\n",
        "\n",
        "    ans = 0  # Inicializa o contador de interseções\n",
        "    intersection_points = []  # Inicializa uma lista vazia para armazenar os pontos de intersecao\n",
        "\n",
        "    for i in range(2 * n):\n",
        "        curr = e[i]\n",
        "        index = curr.index\n",
        "\n",
        "        if curr.isLeft:\n",
        "            next = succ(s, curr)  # Encontra o próximo segmento ativo\n",
        "            prev = pred(s, curr)  # Encontra o segmento ativo anterior\n",
        "            flag = False\n",
        "            if next is not None and doIntersect(arr[next.index], arr[index]):\n",
        "                intersection_points.append((arr[next.index].left, arr[index].left))\n",
        "                # Se o próximo segmento ativo se intersecta com o segmento atual, adiciona o ponto de intersecao a lista\n",
        "            if prev is not None and doIntersect(arr[prev.index], arr[index]):\n",
        "                intersection_points.append((arr[prev.index].left, arr[index].left))\n",
        "                # Se o segmento ativo anterior se intersecta com o segmento atual, adiciona o ponto de intersecao a lista\n",
        "            if prev is not None and next is not None and next.index == prev.index:\n",
        "                ans -= 1\n",
        "                # Se o próximo e o anterior forem os mesmos segmentos, significa que o ponto de interseção foi contado duas vezes, então decrementa o contador de interseções\n",
        "\n",
        "            s.add(curr)  # Adiciona o segmento atual ao conjunto de semgentos ativos\n",
        "        else:\n",
        "            it = None\n",
        "            for elem in s:\n",
        "                if elem.x == arr[index].left.x and elem.y == arr[index].left.y and elem.isLeft:\n",
        "                    it = elem\n",
        "                    break\n",
        "                # Encontra o iterador correspondente ao segmento atual no conjunto de segmentos ativos\n",
        "            if it is not None:\n",
        "                next = succ(s, it)  # encontra o próximo segmento ativo\n",
        "                prev = pred(s, it)  # encontra o segmento ativo anterior\n",
        "\n",
        "                if next is not None and prev is not None:\n",
        "                    if doIntersect(arr[prev.index], arr[next.index]):\n",
        "                        intersection_points.append((arr[prev.index].left, arr[next.index].left))\n",
        "                        # Se o segmento ativo anterior e o próximo se intersectam, adiciona o ponto de interseção a lista\n",
        "\n",
        "                s.remove(it)  # remove o segmento atual do conjunto de segmentos ativos\n",
        "\n",
        "    return intersection_points, ans  # Retorna a lista de pontos de interseção e a contagem de interseções\n",
        "\n",
        "#n = len(line_segments)\n",
        "#print(f\"Number of intersection points: {isIntersect(line_segments, n)}\")\n",
        "\n",
        "n = len(line_segments)\n",
        "intersection_points, count = isIntersect(line_segments, n)\n"
      ],
      "metadata": {
        "id": "jjAT2UCcXIYh"
      },
      "execution_count": 29,
      "outputs": []
    },
    {
      "cell_type": "code",
      "source": [
        "for point_pair in intersection_points:\n",
        "    print(f\"Intersection Point 1: ({point_pair[0].x}, {point_pair[0].y}), Intersection Point 2: ({point_pair[1].x}, {point_pair[1].y})\")\n",
        "    # plt.scatter((point_pair[0].x,point_pair[0].y), (point_pair[1].x,point_pair[1].y) )\n",
        "    # plt.plot((point_pair[0].x,point_pair[0].y), (point_pair[1].x,point_pair[1].y), linestyle='-', marker='o', color='orange')\n",
        "    # plt.xlabel('x')\n",
        "    # plt.ylabel('x')\n",
        "    # plt.title('Envoltória Convexa')\n",
        "    # plt.scatter(Xs1, Ys1)\n",
        "    # plt.plot(Xs2, Ys2, linestyle='-', marker='o', color='orange')\n",
        "    # plt.xlabel('x')\n",
        "    # plt.ylabel('x')\n",
        "    # plt.show()\n",
        "\n",
        "#comentei porque isso plota os pontos e uma reta mostrando q eles se interceptam"
      ],
      "metadata": {
        "colab": {
          "base_uri": "https://localhost:8080/"
        },
        "id": "WMDd1kHsYz5D",
        "outputId": "7b170875-1035-4148-d4d2-bf93752bc2f8"
      },
      "execution_count": 30,
      "outputs": [
        {
          "output_type": "stream",
          "name": "stdout",
          "text": [
            "Intersection Point 1: (4.917243400035973, 1.6795181589198684), Intersection Point 2: (4.917243400035973, 1.6795181589198684)\n",
            "Intersection Point 1: (5.309743071875903, 2.611753667820411), Intersection Point 2: (5.309743071875903, 2.611753667820411)\n",
            "Intersection Point 1: (6.452955398663373, 3.06463278165618), Intersection Point 2: (6.452955398663373, 3.06463278165618)\n"
          ]
        }
      ]
    },
    {
      "cell_type": "code",
      "source": [],
      "metadata": {
        "id": "r56u1O_qDleM"
      },
      "execution_count": null,
      "outputs": []
    }
  ],
  "metadata": {
    "colab": {
      "provenance": []
    },
    "kernelspec": {
      "display_name": "Python 3",
      "name": "python3"
    },
    "language_info": {
      "codemirror_mode": {
        "name": "ipython",
        "version": 3
      },
      "file_extension": ".py",
      "mimetype": "text/x-python",
      "name": "python",
      "nbconvert_exporter": "python",
      "pygments_lexer": "ipython3",
      "version": "3.11.4"
    }
  },
  "nbformat": 4,
  "nbformat_minor": 0
}
