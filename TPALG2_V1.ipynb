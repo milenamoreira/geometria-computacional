{
  "cells": [
    {
      "cell_type": "markdown",
      "metadata": {
        "id": "QLSK7AzKoHpu"
      },
      "source": [
        "## __0. Bibliotecas__"
      ]
    },
    {
      "cell_type": "code",
      "execution_count": null,
      "metadata": {
        "id": "jvT4h1XCoGaT"
      },
      "outputs": [],
      "source": [
        "# mover os imports para cá"
      ]
    },
    {
      "cell_type": "markdown",
      "metadata": {
        "id": "Z5yYfrHNnKzr"
      },
      "source": [
        "## __1. Datasets__"
      ]
    },
    {
      "cell_type": "code",
      "execution_count": null,
      "metadata": {
        "id": "bunB5ySCnUVy"
      },
      "outputs": [],
      "source": [
        "# carregar todos os datasets aqui"
      ]
    },
    {
      "cell_type": "markdown",
      "metadata": {
        "id": "LMOMQ1jTfBOb"
      },
      "source": [
        "## __2. Pré-processamento dos dados__"
      ]
    },
    {
      "cell_type": "markdown",
      "metadata": {
        "id": "BWQys5CLe_Tv"
      },
      "source": [
        "Uma vez que vamos trabalhar apenas com pontos no plano cartesiano, precisamos transformar nossos dados em uma **matriz bidimensional**. Para isso, utilizaremos a técnica **SVD** (Singular Value Decomposition) que reduz uma matriz *n*-dimensional em uma matriz *k*-dimensional, onde *k* é o número de fatores latentes. Para nosso trabalho, *k* é sempre 2."
      ]
    },
    {
      "cell_type": "code",
      "execution_count": 2,
      "metadata": {
        "id": "EDIxk7Ucfcab"
      },
      "outputs": [],
      "source": [
        "import numpy as np\n",
        "import pandas as pd\n",
        "import matplotlib.pyplot as plt\n",
        "\n",
        "from sklearn import datasets\n",
        "iris = datasets.load_iris() # apenas o iris tem duas classes linearmente separáveis\n",
        "digits = datasets.load_digits()\n",
        "wine = datasets.load_wine()\n",
        "cancer = datasets.load_breast_cancer()\n",
        "\n",
        "df = pd.DataFrame(iris.data, columns=iris.feature_names)\n",
        "df['Target'] = pd.DataFrame(iris.target)\n"
      ]
    },
    {
      "cell_type": "code",
      "execution_count": 3,
      "metadata": {
        "id": "mgTcBbm0hB8V"
      },
      "outputs": [],
      "source": [
        "from sklearn.decomposition import TruncatedSVD\n",
        "\n",
        "svd = TruncatedSVD(n_components=2, n_iter=4, random_state=42)\n",
        "data_points = svd.fit_transform(df)"
      ]
    },
    {
      "cell_type": "code",
      "execution_count": null,
      "metadata": {
        "id": "tV31bFCHOrUs"
      },
      "outputs": [],
      "source": [
        "df_new = pd.DataFrame(data_points, columns=['x','y'])\n",
        "df_new['Target'] = pd.DataFrame(iris.target)\n",
        "df_new"
      ]
    },
    {
      "cell_type": "markdown",
      "metadata": {
        "id": "KGmPiwOTUxst"
      },
      "source": [
        "## __3. Envoltória Convexa__\n",
        " "
      ]
    },
    {
      "cell_type": "markdown",
      "metadata": {},
      "source": [
        "#### Implementação do algoritmo de Gift Wrapping(Jarvis March) para determinar as envoltórias das amostras. Este algoritmo possui complexidade $O(nh)$, sendo $n$ o número de pontos e $h$ os pontos que efetivamente estão na envoltória."
      ]
    },
    {
      "cell_type": "code",
      "execution_count": 5,
      "metadata": {
        "id": "Idak_-IO909Y"
      },
      "outputs": [],
      "source": [
        "# classe para represemtar segmentos de reta no espaço\n",
        "class Segment:\n",
        "    def __init__(self, left, right):\n",
        "        self.left = left\n",
        "        self.right = right"
      ]
    },
    {
      "cell_type": "code",
      "execution_count": 6,
      "metadata": {
        "id": "bbl3LqtOU03z"
      },
      "outputs": [],
      "source": [
        "# classe para representar pontos bidimensionais no espaço\n",
        "class Ponto:\n",
        "    def __init__(self, x, y):\n",
        "        self.x = x\n",
        "        self.y = y"
      ]
    },
    {
      "cell_type": "code",
      "execution_count": 7,
      "metadata": {
        "id": "60tcTuHKJL52"
      },
      "outputs": [],
      "source": [
        "#calculando o produto vetorial entre segmentos ab e ac, a = ancora\n",
        "def produto_vetorial(ancora, b, c):\n",
        "    return ((b.x-ancora.x)*(c.y-ancora.y) - (c.x-ancora.x)*(b.y-ancora.y))\n"
      ]
    },
    {
      "cell_type": "code",
      "execution_count": 8,
      "metadata": {
        "id": "H8YQadwWJOpr"
      },
      "outputs": [],
      "source": [
        "# encontrando o ponto mais embaixo em relação a y\n",
        "def mais_a_esquerda(pontos):\n",
        "    min = 0\n",
        "    for i in range(1,len(pontos)):\n",
        "        if pontos[i].y < pontos[min].y:\n",
        "            min = i\n",
        "        elif pontos[i].y == pontos[min].y:\n",
        "            if pontos[i].x < pontos[min].x: # em caso de empate, escolhemos o ponto mais a esquerda\n",
        "                min = i\n",
        "    return min"
      ]
    },
    {
      "cell_type": "code",
      "execution_count": 9,
      "metadata": {
        "id": "QOetVj0GU59o"
      },
      "outputs": [],
      "source": [
        "# funcao que recebe um vetor de pontos, e retorna lista com pontos da envoltoria convexa\n",
        "def gift_wrapping(pontos):\n",
        "    i_esquerda = mais_a_esquerda(pontos) # guarda indice do ponto mais a esquerda\n",
        "    p = pontos[i_esquerda]\n",
        "\n",
        "    prox = (i_esquerda + 1) % len(pontos)\n",
        "\n",
        "    teste = 0\n",
        "\n",
        "    envoltoria = [] #incializa envoltoria vazia\n",
        "    envoltoria.append(p) # adiciona ponto mais à esquerda a envoltoria\n",
        "\n",
        "    q = p\n",
        "    while(True):\n",
        "        # calcula o prox ponto da envoltoria\n",
        "        while(teste != len(pontos)):\n",
        "            det = produto_vetorial(q, pontos[prox], pontos[teste])\n",
        "            if det < 0: # se for negativo, pontos[teste] tem o menor angulo polar,sendo o prox ponto da envoltoria\n",
        "                prox = teste\n",
        "            # atualiza teste\n",
        "            teste = teste+1;\n",
        "\n",
        "        # se tivermos retornados a ancora, loop acaba\n",
        "        if p == pontos[prox]:\n",
        "            break\n",
        "\n",
        "        # adiciona ponto a envoltoria\n",
        "        envoltoria.append(pontos[prox])\n",
        "\n",
        "        # atualiza variáveis\n",
        "        q = pontos[prox]\n",
        "        prox = (prox + 1) % len(pontos)\n",
        "        teste = 0\n",
        "\n",
        "    return envoltoria"
      ]
    },
    {
      "cell_type": "code",
      "execution_count": 10,
      "metadata": {
        "id": "l8UX5lueVG4L"
      },
      "outputs": [],
      "source": [
        "pontos = [Ponto(x, y) for x, y in data_points]\n",
        "envoltoria = gift_wrapping(pontos)"
      ]
    },
    {
      "cell_type": "code",
      "execution_count": null,
      "metadata": {
        "id": "IDS6mi46V0iD"
      },
      "outputs": [],
      "source": [
        "# Criando listas separadas para nomes e idades\n",
        "Xs1 = [ponto.x for ponto in pontos]\n",
        "Ys1 = [ponto.y for ponto in pontos]\n",
        "\n",
        "Xs2 = [ponto.x for ponto in envoltoria]\n",
        "Ys2 = [ponto.y for ponto in envoltoria]\n",
        "\n",
        "# Adicionando o primeiro ponto da envoltória ao final para fechar a forma\n",
        "Xs2.append(envoltoria[0].x)\n",
        "Ys2.append(envoltoria[0].y)\n",
        "\n",
        "# Plotando um gráfico de barras\n",
        "plt.scatter(Xs1, Ys1, c=iris.target, s=20)\n",
        "plt.plot(Xs2, Ys2, linestyle='-', marker='o', color='orange')\n",
        "plt.xlabel('x')\n",
        "plt.ylabel('x')\n",
        "plt.title('Envoltória Convexa')\n",
        "plt.show()"
      ]
    },
    {
      "cell_type": "code",
      "execution_count": null,
      "metadata": {
        "id": "3csh0mJZMYdY"
      },
      "outputs": [],
      "source": [
        "# testando envoltoria com a matriz bidimensional\n",
        "plt.clf()\n",
        "plt.figure(figsize = (10, 6))\n",
        "names = iris.target_names\n",
        "label = (iris.target).astype(int)\n",
        "colors = ['b','r','g']\n",
        "for i in range(len(names)):\n",
        "    bucket = df_new[df_new['Target'] == i]\n",
        "    bucket = bucket.iloc[:,[0,1]].values\n",
        "    bucket_points = [Ponto(x, y) for x, y in bucket]\n",
        "    envoltoria[i] = gift_wrapping(bucket_points)\n",
        "    Xs1 = [ponto.x for ponto in bucket_points]\n",
        "    Ys1 = [ponto.y for ponto in bucket_points]\n",
        "    plt.scatter(Xs1, Ys1, s=20)\n",
        "    Xs2 = [ponto.x for ponto in envoltoria[i]]\n",
        "    Ys2 = [ponto.y for ponto in envoltoria[i]]\n",
        "    Xs2.append(envoltoria[i][0].x)\n",
        "    Ys2.append(envoltoria[i][0].y)\n",
        "    for j in envoltoria:\n",
        "        plt.plot(Xs2, Ys2, linestyle='-', marker='o', color='orange')\n",
        "plt.legend()\n",
        "plt.show()"
      ]
    },
    {
      "cell_type": "code",
      "execution_count": null,
      "metadata": {
        "id": "75e5QrmbUUQJ"
      },
      "outputs": [],
      "source": [
        "#testando envoltoria com matriz inteira\n",
        "plt.clf()\n",
        "plt.figure(figsize = (10, 6))\n",
        "names = iris.target_names\n",
        "label = (iris.target).astype(int)\n",
        "colors = ['b','r','g']\n",
        "plt.title('Petal Width vs Petal Length')\n",
        "plt.xlabel(iris.feature_names[2])\n",
        "plt.ylabel(iris.feature_names[3])\n",
        "for i in range(len(names)):\n",
        "    bucket = df[df['Target'] == i]\n",
        "    bucket = bucket.iloc[:,[2,3]].values\n",
        "    bucket_points = [Ponto(x, y) for x, y in bucket]\n",
        "    envoltoria[i] = gift_wrapping(bucket_points)\n",
        "    Xs1 = [ponto.x for ponto in bucket_points]\n",
        "    Ys1 = [ponto.y for ponto in bucket_points]\n",
        "    plt.scatter(Xs1, Ys1, s=20)\n",
        "    Xs2 = [ponto.x for ponto in envoltoria[i]]\n",
        "    Ys2 = [ponto.y for ponto in envoltoria[i]]\n",
        "    Xs2.append(envoltoria[i][0].x)\n",
        "    Ys2.append(envoltoria[i][0].y)\n",
        "    for j in envoltoria:\n",
        "        plt.plot(Xs2, Ys2, linestyle='-', marker='o', color='orange')\n",
        "plt.legend()\n",
        "plt.show()"
      ]
    },
    {
      "cell_type": "markdown",
      "metadata": {},
      "source": []
    },
    {
      "cell_type": "markdown",
      "metadata": {
        "id": "8eowpE_sXEiJ"
      },
      "source": [
        "## __4. Varredura Linear__ \n"
      ]
    },
    {
      "cell_type": "markdown",
      "metadata": {},
      "source": [
        "#### Implementação da varredura linear para verificação de intercessão de segmentos das envoltórias. \n"
      ]
    },
    {
      "cell_type": "code",
      "execution_count": null,
      "metadata": {},
      "outputs": [],
      "source": [
        "def on_segment(p1, p2, p):\n",
        "    return min(p1.x, p2.x) <= p.x <= max(p1.x, p2.x) and min(p1.y, p2.y) <= p.y <= max(p1.y, p2.y)"
      ]
    },
    {
      "cell_type": "code",
      "execution_count": null,
      "metadata": {},
      "outputs": [],
      "source": [
        "def intersect(p1, p2, p3, p4):\n",
        "    d1 = produto_vetorial(p3, p4, p1)\n",
        "    d2 = produto_vetorial(p3, p4, p2)\n",
        "    d3 = produto_vetorial(p1, p2, p3)\n",
        "    d4 = produto_vetorial(p1, p2, p4)\n",
        "\n",
        "    if ((d1 > 0 and d2 < 0) or (d1 < 0 and d2 > 0)) and \\\n",
        "        ((d3 > 0 and d4 < 0) or (d3 < 0 and d4 > 0)):\n",
        "        return True\n",
        "\n",
        "    elif d1 == 0 and on_segment(p3, p4, p1):\n",
        "        return True\n",
        "    elif d2 == 0 and on_segment(p3, p4, p2):\n",
        "        return True\n",
        "    elif d3 == 0 and on_segment(p1, p2, p3):\n",
        "        return True\n",
        "    elif d4 == 0 and on_segment(p1, p2, p4):\n",
        "        return True\n",
        "    else:\n",
        "        return False"
      ]
    },
    {
      "cell_type": "code",
      "execution_count": null,
      "metadata": {},
      "outputs": [],
      "source": [
        "def any_segment_intersect(envoltoria_1, envoltoria_2):\n",
        "    n = len(envoltoria_1)\n",
        "    m = len(envoltoria_2)\n",
        "    for i in range(n):\n",
        "        for j in range(m):\n",
        "            if intersect(envoltoria_1[i], envoltoria_1[(i + 1) % n], envoltoria_2[j], envoltoria_2[(j + 1) % m]):\n",
        "                return True\n",
        "                \n",
        "    return False"
      ]
    },
    {
      "cell_type": "code",
      "execution_count": null,
      "metadata": {},
      "outputs": [],
      "source": [
        "res1 = any_segment_intersect(envoltoria[0], envoltoria[1]) # deve retornar False\n",
        "res2 = any_segment_intersect(envoltoria[1], envoltoria[2]) # deve retornar True\n",
        "res3 = any_segment_intersect(envoltoria[0], envoltoria[2]) # deve retornar False"
      ]
    },
    {
      "cell_type": "code",
      "execution_count": null,
      "metadata": {},
      "outputs": [],
      "source": [
        "print(res1)\n",
        "print(res2)\n",
        "print(res3)"
      ]
    },
    {
      "cell_type": "markdown",
      "metadata": {},
      "source": [
        "## __5. Algoritmo de varredura para achar pontos mais próximos entre dois conjuntos__\n"
      ]
    },
    {
      "cell_type": "markdown",
      "metadata": {},
      "source": [
        "##### __5.1) Implementando a classe PontoRotulado:__\n"
      ]
    },
    {
      "cell_type": "code",
      "execution_count": null,
      "metadata": {},
      "outputs": [],
      "source": [
        "#classe ponto rotulado, contém um Ponto e um rótulo(0 ou 1) (necessária para rodar o closest pair)\n",
        "class PontoRotulado:\n",
        "    def __init__(self, x, y, rotulo):\n",
        "        self.ponto = Ponto(x, y)\n",
        "        self.rotulo = rotulo"
      ]
    },
    {
      "cell_type": "markdown",
      "metadata": {},
      "source": [
        "#### __5.2) Algoritmo de varredura__ \n",
        "Este algoritmo tem em seu melhor caso complexiadade $O(n.log(n))$. Em seu pior caso, essa complexidade aumenta para $O(n^2)$. Dada a restrição de que cada ponto do par de pontos retornados precisa ser de um conjunto de pontos diferentes, o parâmetro de distância mínima, usado no algoritmo, tende a ter valores maiores do que se executássemos o algoritmo sem essa restrição. Portanto, espera-se que a complexidade executada esteja entre o caso médio e o pior caso do algoritmo."
      ]
    },
    {
      "cell_type": "code",
      "execution_count": 1,
      "metadata": {},
      "outputs": [],
      "source": [
        "import sys\n",
        "import math\n",
        " \n",
        "# função que retorna par de pontos rotulados mais próximo entre dois conjuntos de pontos rotulados\n",
        "def par_mais_proximo(pontos):\n",
        "    # inicializando variáveis\n",
        "    p1 = (0,0,0)\n",
        "    p2 = p1\n",
        "\n",
        "    # ordena a lista de objetos com base nas coordenadas x dos pontos\n",
        "    ordenados_X = sorted(pontos, key=lambda obj: obj.ponto.x)\n",
        "\n",
        "    # menor distancia inicializada com valor alto\n",
        "    min = sys.maxsize\n",
        " \n",
        "    # criando objeto do tipo conjunto\n",
        "    st = set()\n",
        "    # adiciona ponto mais a esquerda ao conjunto\n",
        "    st.add(ordenados_X[0])\n",
        " \n",
        "    # varredura sobre pontos ordenados em X\n",
        "    for i in range(1, len(ordenados_X)):\n",
        "        # cria conjunto de pontos a esquerda do ponto atual numa distancia no máximo d\n",
        "        l = set([p for p in st if (p.ponto.x >= ordenados_X[i].ponto.x - min) and (p.ponto.y >= ordenados_X[i].ponto.y - min) ])\n",
        "        # conjunto de pontos a direita do ponto atual a uma distancia no máximo d\n",
        "        r = set([p for p in st if (p.ponto.x <= ordenados_X[i].ponto.x + min) and (p.ponto.y <= ordenados_X[i].ponto.y + min)])\n",
        "        # intercessao de pontos que podem ter distancia menor que d entre si\n",
        "        intersection = l & r\n",
        "        \n",
        "        # se não houver pontos com distancias possivelmente menores, passa para o proximo ponto ordenado\n",
        "        if len(intersection) == 0:\n",
        "            continue\n",
        "\n",
        "        # loop sobre a interseção dos conjuntos l e r\n",
        "        for val in intersection:\n",
        "            if ordenados_X[i].rotulo == val.rotulo:\n",
        "                continue\n",
        "\n",
        "            # Calcula a distância entre os pontos\n",
        "            dist = math.sqrt(math.pow(ordenados_X[i].ponto.x - val.ponto.x, 2) + math.pow(ordenados_X[i].ponto.y - val.ponto.y, 2))\n",
        "\n",
        "            # Atualiza a distância mínima, se necessário\n",
        "            if min > dist:\n",
        "                min = dist\n",
        "                # guardando o par de pontos mais prox até o momento\n",
        "                p1 = ordenados_X[i]\n",
        "                p2 = val\n",
        "\n",
        "        st.add(ordenados_X[i])\n",
        " \n",
        "    return p1, p2\n",
        " "
      ]
    },
    {
      "cell_type": "markdown",
      "metadata": {},
      "source": [
        "## __6. Equação da reta classificadora__\n"
      ]
    },
    {
      "cell_type": "markdown",
      "metadata": {},
      "source": [
        "##### Para qualquer equação linear $y = mx + b$, as perpendiculares à ela terão todas uma inclinação de $-1/m$, o recíproco oposto da inclinação original. Para encontrar uma reta perpendicular de um dado segmento $p1p2$, sendo que esta reta também passa por um ponto específico $(x, y)$, nesse caso, a mediana do segmento, basta resolver a equação $y = (-1/m)x + b$, substituindo os valores conhecidos de $m$, $x$ e $y$ para resolver $b$."
      ]
    },
    {
      "cell_type": "code",
      "execution_count": 2,
      "metadata": {},
      "outputs": [],
      "source": [
        "# retorna  m e b da equação da reta perpendicular\n",
        "def reta_perpendicular(p1, p2):\n",
        "    inclinacao_original = (p1.y-p2.y)/(p1.x-p2.x)\n",
        "    \n",
        "    inclinacao_perpendicular = (-1.0)/inclinacao_original\n",
        "    # calcula a mediana\n",
        "    mediana = ((p1.x + p2.x)/2, (p1.y + p2.y)/2) # ponto da mediana\n",
        "    print(\"mediana %d\", mediana)\n",
        "    \n",
        "    b = mediana[1] - inclinacao_perpendicular * mediana[0]\n",
        "    return (b, inclinacao_perpendicular)\n",
        "\n",
        "# função para calcular os valores y da reta dada um inclinação m e intercessao b\n",
        "def reta(m, b, x):\n",
        "    return m * x + b"
      ]
    },
    {
      "cell_type": "markdown",
      "metadata": {},
      "source": []
    }
  ],
  "metadata": {
    "colab": {
      "provenance": []
    },
    "kernelspec": {
      "display_name": "Python 3",
      "name": "python3"
    },
    "language_info": {
      "codemirror_mode": {
        "name": "ipython",
        "version": 3
      },
      "file_extension": ".py",
      "mimetype": "text/x-python",
      "name": "python",
      "nbconvert_exporter": "python",
      "pygments_lexer": "ipython3",
      "version": "3.9.13"
    }
  },
  "nbformat": 4,
  "nbformat_minor": 0
}
