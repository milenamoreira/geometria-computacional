{
 "cells": [
  {
   "cell_type": "code",
   "execution_count": null,
   "metadata": {},
   "outputs": [],
   "source": [
    "import numpy as np\n",
    "import pandas as pd\n",
    "import matplotlib.pyplot as plt\n",
    "from sklearn.datasets import fetch_covtype\n",
    "from sklearn.manifold import TSNE\n",
    "from sklearn.preprocessing import StandardScaler\n",
    "\n",
    "# Carregar o conjunto de dados Forest covertypes\n",
    "data = fetch_covtype()\n",
    "X = data.data\n",
    "y = data.target\n",
    "\n",
    "# Padronizar os dados\n",
    "X_standardized = StandardScaler().fit_transform(X)\n",
    "\n",
    "# Aplicar t-SNE para redução de dimensionalidade\n",
    "tsne = TSNE(n_components=2, random_state=42)\n",
    "X_tsne = tsne.fit_transform(X_standardized)\n",
    "\n",
    "# Criar DataFrame com as duas primeiras componentes e os rótulos\n",
    "df = pd.DataFrame(data=X_tsne, columns=['Componente 1', 'Componente 2'])\n",
    "df['Rótulo'] = y\n",
    "\n",
    "# Visualizar os resultados\n",
    "plt.figure(figsize=(10, 8))\n",
    "colors = [plt.cm.Paired(i) for i in df['Rótulo']]\n",
    "plt.scatter(df['Componente 1'], df['Componente 2'], c=colors, alpha=0.5)\n",
    "plt.title('Redução de Dimensionalidade t-SNE para Forest Covertype Dataset')\n",
    "plt.xlabel('Componente 1')\n",
    "plt.ylabel('Componente 2')\n",
    "plt.show()\n"
   ]
  }
 ],
 "metadata": {
  "language_info": {
   "name": "python"
  }
 },
 "nbformat": 4,
 "nbformat_minor": 2
}
