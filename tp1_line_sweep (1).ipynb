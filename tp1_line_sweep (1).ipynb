{
  "cells": [
    {
      "cell_type": "markdown",
      "metadata": {
        "id": "ubD7Y6PZFALM"
      },
      "source": [
        "# TP 1 Algoritmos 2\n"
      ]
    },
    {
      "cell_type": "code",
      "execution_count": 79,
      "metadata": {
        "id": "Mr6GkMc9FALR"
      },
      "outputs": [],
      "source": [
        "# classe para representar pontos bidimensionais no espaço\n",
        "class Ponto:\n",
        "    def __init__(self, x, y):\n",
        "        self.x = x\n",
        "        self.y = y\n",
        "\n",
        "#calculando o produto vetorial entre segmentos ab e ac, a = ancora\n",
        "def produto_vetorial(ancora, b, c):\n",
        "    return ((b.x-ancora.x)*(c.y-ancora.y) - (c.x-ancora.x)*(b.y-ancora.y))\n",
        "\n",
        "# encontrando o ponto mais embaixo em relação a y\n",
        "def mais_a_esquerda(pontos):\n",
        "    min = 0\n",
        "    for i in range(1,len(pontos)):\n",
        "        if pontos[i].y < pontos[min].y:\n",
        "            min = i\n",
        "        elif pontos[i].y == pontos[min].y:\n",
        "            if pontos[i].x < pontos[min].x: # em caso de empate, escolhemos o ponto mais a esquerda\n",
        "                min = i\n",
        "    return min\n",
        "\n",
        "#coloquei a classe segment aqui porque usei pra criar a lista de pontos\n",
        "class Segment:\n",
        "    def __init__(self, left, right):\n",
        "        self.left = left\n",
        "        self.right = right"
      ]
    },
    {
      "cell_type": "code",
      "execution_count": 80,
      "metadata": {
        "id": "SEVM-bK_FALW"
      },
      "outputs": [],
      "source": [
        "# funcao que recebe um vetor de pontos, e retorna lista ocm pontos da envoltoria convexa\n",
        "def gift_wrapping(pontos):\n",
        "    i_esquerda = mais_a_esquerda(pontos) # guarda indice do ponto mais a esquerda\n",
        "    p = pontos[i_esquerda]\n",
        "\n",
        "    prox = (i_esquerda + 1) % len(pontos)\n",
        "\n",
        "    teste = (prox + 1) % len(pontos)\n",
        "\n",
        "    envoltoria = [] #incializa envoltoria vazia\n",
        "    envoltoria.append(p) # adiciona ponto mais à esquerda a envoltoria\n",
        "\n",
        "    q = p\n",
        "    while(True):\n",
        "        while(teste != len(pontos)):\n",
        "\n",
        "            det = produto_vetorial(q, pontos[prox], pontos[teste])\n",
        "            if det < 0: # se for negativo, pontos[teste] tem o menor angulo polar\n",
        "                prox = teste\n",
        "            teste = teste+1;\n",
        "\n",
        "        # se\n",
        "        if p == pontos[prox]:\n",
        "            break\n",
        "        elif teste == len(pontos):\n",
        "            teste == 0;\n",
        "\n",
        "        envoltoria.append(pontos[prox])\n",
        "        q = pontos[prox]\n",
        "        prox = (prox + 1) % len(pontos)\n",
        "        teste =0\n",
        "    return envoltoria\n",
        "\n",
        "points = []\n",
        "points.append(Ponto(0, 3))\n",
        "points.append(Ponto(2, 2))\n",
        "points.append(Ponto(1, 1))\n",
        "points.append(Ponto(2, 1))\n",
        "points.append(Ponto(3, 0))\n",
        "points.append(Ponto(0, 0))\n",
        "points.append(Ponto(3, 3))\n",
        "\n",
        "envoltoria = gift_wrapping(points)\n"
      ]
    },
    {
      "cell_type": "code",
      "execution_count": 81,
      "metadata": {
        "colab": {
          "base_uri": "https://localhost:8080/"
        },
        "id": "pjMKFUZqFALX",
        "outputId": "3101d314-7a8b-4ea2-d4c7-c4aa73997ce5"
      },
      "outputs": [
        {
          "output_type": "stream",
          "name": "stdout",
          "text": [
            "X: 0, Y: 0\n",
            "X: 3, Y: 0\n",
            "X: 3, Y: 3\n",
            "X: 0, Y: 3\n"
          ]
        }
      ],
      "source": [
        "# Acessando atributos dos objetos na lista\n",
        "for ponto in envoltoria:\n",
        "    print(f\"X: {ponto.x}, Y: {ponto.y}\")\n"
      ]
    },
    {
      "cell_type": "markdown",
      "metadata": {
        "id": "KSdTMDGXFALa"
      },
      "source": [
        "resposta esperada:\n",
        "(0, 3)\n",
        "(0, 0)\n",
        "(3, 0)\n",
        "(3, 3)"
      ]
    },
    {
      "cell_type": "code",
      "execution_count": 85,
      "metadata": {
        "colab": {
          "base_uri": "https://localhost:8080/",
          "height": 594
        },
        "id": "ZhEzm1BAFALb",
        "outputId": "8a007e62-30d1-4840-96fd-36e99f3b82f1"
      },
      "outputs": [
        {
          "output_type": "stream",
          "name": "stdout",
          "text": [
            "Left Point: (0, 3), Right Point: (2, 2)\n",
            "Left Point: (2, 2), Right Point: (1, 1)\n",
            "Left Point: (1, 1), Right Point: (2, 1)\n",
            "Left Point: (2, 1), Right Point: (3, 0)\n",
            "Left Point: (3, 0), Right Point: (0, 0)\n",
            "Left Point: (0, 0), Right Point: (3, 3)\n",
            "Left Point: (3, 3), Right Point: (0, 3)\n"
          ]
        },
        {
          "output_type": "display_data",
          "data": {
            "text/plain": [
              "<Figure size 640x480 with 1 Axes>"
            ],
            "image/png": "[encoded data removed]"
          },
          "metadata": {}
        }
      ],
      "source": [
        "import matplotlib.pyplot as plt\n",
        "\n",
        "# Criando listas separadas para nomes e idades\n",
        "Xs1 = [ponto.x for ponto in points]\n",
        "Ys1 = [ponto.y for ponto in points]\n",
        "\n",
        "Xs2 = [ponto.x for ponto in envoltoria]\n",
        "Ys2 = [ponto.y for ponto in envoltoria]\n",
        "\n",
        "# Adicionando o primeiro ponto da envoltória ao final para fechar a forma\n",
        "Xs2.append(envoltoria[0].x)\n",
        "Ys2.append(envoltoria[0].y)\n",
        "\n",
        "\n",
        "\n",
        "# Plotando um gráfico de barras\n",
        "plt.scatter(Xs1, Ys1)\n",
        "plt.plot(Xs2, Ys2, linestyle='-', marker='o', color='orange')\n",
        "plt.xlabel('x')\n",
        "plt.ylabel('x')\n",
        "plt.title('Envoltória Convexa')\n",
        "plt.show()\n"
      ]
    },
    {
      "cell_type": "code",
      "execution_count": 102,
      "metadata": {
        "colab": {
          "base_uri": "https://localhost:8080/",
          "height": 1000
        },
        "id": "5kCKJ-moFALc",
        "outputId": "deef4bd2-54b6-4552-c433-a97f8eed2b20"
      },
      "outputs": [
        {
          "output_type": "stream",
          "name": "stdout",
          "text": [
            "X: 0.8289400292173631, Y: 0.004695476192547066\n",
            "X: 0.9883738380592262, Y: 0.10204481074802807\n",
            "X: 0.978618342232764, Y: 0.7991585642167236\n",
            "X: 0.7781567509498505, Y: 0.8700121482468192\n",
            "X: 0.5759464955561793, Y: 0.9292961975762141\n",
            "X: 0.1433532874090464, Y: 0.9446689170495839\n",
            "X: 0.02021839744032572, Y: 0.832619845547938\n",
            "X: 0.018789800436355142, Y: 0.6176354970758771\n",
            "X: 0.07103605819788694, Y: 0.08712929970154071\n",
            "X: 0.5865129348100832, Y: 0.020107546187493552\n",
            "Left Point: (0.5488135039273248, 0.7151893663724195), Right Point: (0.6027633760716439, 0.5448831829968969)\n",
            "Left Point: (0.6027633760716439, 0.5448831829968969), Right Point: (0.4236547993389047, 0.6458941130666561)\n",
            "Left Point: (0.4236547993389047, 0.6458941130666561), Right Point: (0.4375872112626925, 0.8917730007820798)\n",
            "Left Point: (0.4375872112626925, 0.8917730007820798), Right Point: (0.9636627605010293, 0.3834415188257777)\n",
            "Left Point: (0.9636627605010293, 0.3834415188257777), Right Point: (0.7917250380826646, 0.5288949197529045)\n",
            "Left Point: (0.7917250380826646, 0.5288949197529045), Right Point: (0.5680445610939323, 0.925596638292661)\n",
            "Left Point: (0.5680445610939323, 0.925596638292661), Right Point: (0.07103605819788694, 0.08712929970154071)\n",
            "Left Point: (0.07103605819788694, 0.08712929970154071), Right Point: (0.02021839744032572, 0.832619845547938)\n",
            "Left Point: (0.02021839744032572, 0.832619845547938), Right Point: (0.7781567509498505, 0.8700121482468192)\n",
            "Left Point: (0.7781567509498505, 0.8700121482468192), Right Point: (0.978618342232764, 0.7991585642167236)\n",
            "Left Point: (0.978618342232764, 0.7991585642167236), Right Point: (0.46147936225293185, 0.7805291762864555)\n",
            "Left Point: (0.46147936225293185, 0.7805291762864555), Right Point: (0.11827442586893322, 0.6399210213275238)\n",
            "Left Point: (0.11827442586893322, 0.6399210213275238), Right Point: (0.1433532874090464, 0.9446689170495839)\n",
            "Left Point: (0.1433532874090464, 0.9446689170495839), Right Point: (0.5218483217500717, 0.4146619399905236)\n",
            "Left Point: (0.5218483217500717, 0.4146619399905236), Right Point: (0.26455561210462697, 0.7742336894342167)\n",
            "Left Point: (0.26455561210462697, 0.7742336894342167), Right Point: (0.45615033221654855, 0.5684339488686485)\n",
            "Left Point: (0.45615033221654855, 0.5684339488686485), Right Point: (0.018789800436355142, 0.6176354970758771)\n",
            "Left Point: (0.018789800436355142, 0.6176354970758771), Right Point: (0.6120957227224214, 0.6169339968747569)\n",
            "Left Point: (0.6120957227224214, 0.6169339968747569), Right Point: (0.9437480785146242, 0.6818202991034834)\n",
            "Left Point: (0.9437480785146242, 0.6818202991034834), Right Point: (0.359507900573786, 0.43703195379934145)\n",
            "Left Point: (0.359507900573786, 0.43703195379934145), Right Point: (0.6976311959272649, 0.06022547162926983)\n",
            "Left Point: (0.6976311959272649, 0.06022547162926983), Right Point: (0.6667667154456677, 0.6706378696181594)\n",
            "Left Point: (0.6667667154456677, 0.6706378696181594), Right Point: (0.2103825610738409, 0.1289262976548533)\n",
            "Left Point: (0.2103825610738409, 0.1289262976548533), Right Point: (0.31542835092418386, 0.3637107709426226)\n",
            "Left Point: (0.31542835092418386, 0.3637107709426226), Right Point: (0.5701967704178796, 0.43860151346232035)\n",
            "Left Point: (0.5701967704178796, 0.43860151346232035), Right Point: (0.9883738380592262, 0.10204481074802807)\n",
            "Left Point: (0.9883738380592262, 0.10204481074802807), Right Point: (0.2088767560948347, 0.16130951788499626)\n",
            "Left Point: (0.2088767560948347, 0.16130951788499626), Right Point: (0.6531083254653984, 0.2532916025397821)\n",
            "Left Point: (0.6531083254653984, 0.2532916025397821), Right Point: (0.4663107728563063, 0.24442559200160274)\n",
            "Left Point: (0.4663107728563063, 0.24442559200160274), Right Point: (0.15896958364551972, 0.11037514116430513)\n",
            "Left Point: (0.15896958364551972, 0.11037514116430513), Right Point: (0.6563295894652734, 0.1381829513486138)\n",
            "Left Point: (0.6563295894652734, 0.1381829513486138), Right Point: (0.1965823616800535, 0.3687251706609641)\n",
            "Left Point: (0.1965823616800535, 0.3687251706609641), Right Point: (0.8209932298479351, 0.09710127579306127)\n",
            "Left Point: (0.8209932298479351, 0.09710127579306127), Right Point: (0.8379449074988039, 0.09609840789396307)\n",
            "Left Point: (0.8379449074988039, 0.09609840789396307), Right Point: (0.9764594650133958, 0.4686512016477016)\n",
            "Left Point: (0.9764594650133958, 0.4686512016477016), Right Point: (0.9767610881903371, 0.604845519745046)\n",
            "Left Point: (0.9767610881903371, 0.604845519745046), Right Point: (0.7392635793983017, 0.039187792254320675)\n",
            "Left Point: (0.7392635793983017, 0.039187792254320675), Right Point: (0.2828069625764096, 0.1201965612131689)\n",
            "Left Point: (0.2828069625764096, 0.1201965612131689), Right Point: (0.29614019752214493, 0.11872771895424405)\n",
            "Left Point: (0.29614019752214493, 0.11872771895424405), Right Point: (0.317983179393976, 0.41426299451466997)\n",
            "Left Point: (0.317983179393976, 0.41426299451466997), Right Point: (0.06414749634878436, 0.6924721193700198)\n",
            "Left Point: (0.06414749634878436, 0.6924721193700198), Right Point: (0.5666014542065752, 0.2653894909394454)\n",
            "Left Point: (0.5666014542065752, 0.2653894909394454), Right Point: (0.5232480534666997, 0.09394051075844168)\n",
            "Left Point: (0.5232480534666997, 0.09394051075844168), Right Point: (0.5759464955561793, 0.9292961975762141)\n",
            "Left Point: (0.5759464955561793, 0.9292961975762141), Right Point: (0.31856895245132366, 0.6674103799636817)\n",
            "Left Point: (0.31856895245132366, 0.6674103799636817), Right Point: (0.13179786240439217, 0.7163272041185655)\n",
            "Left Point: (0.13179786240439217, 0.7163272041185655), Right Point: (0.2894060929472011, 0.18319136200711683)\n",
            "Left Point: (0.2894060929472011, 0.18319136200711683), Right Point: (0.5865129348100832, 0.020107546187493552)\n",
            "Left Point: (0.5865129348100832, 0.020107546187493552), Right Point: (0.8289400292173631, 0.004695476192547066)\n",
            "Left Point: (0.8289400292173631, 0.004695476192547066), Right Point: (0.5488135039273248, 0.7151893663724195)\n"
          ]
        },
        {
          "output_type": "display_data",
          "data": {
            "text/plain": [
              "<Figure size 640x480 with 1 Axes>"
            ],
            "image/png": "[encoded data removed]"
          },
          "metadata": {}
        }
      ],
      "source": [
        "# Gerar alguns pontos de exemplo\n",
        "\n",
        "import numpy as np\n",
        "\n",
        "np.random.seed(0)\n",
        "numpy_points = np.random.rand(50, 2)  # 30 pontos em 2D\n",
        "\n",
        "\n",
        "# Transformar pontos numpy em objetos Ponto\n",
        "pontos = [Ponto(x, y) for x, y in numpy_points]\n",
        "envoltoria = gift_wrapping(pontos)\n",
        "\n",
        " # Connect the last and first points\n",
        "\n",
        "# Criando listas separadas para nomes e idades\n",
        "Xs1 = [ponto.x for ponto in pontos]\n",
        "Ys1 = [ponto.y for ponto in pontos]\n",
        "\n",
        "Xs2 = [ponto.x for ponto in envoltoria]\n",
        "Ys2 = [ponto.y for ponto in envoltoria]\n",
        "\n",
        "# Adicionando o primeiro ponto da envoltória ao final para fechar a forma\n",
        "Xs2.append(envoltoria[0].x)\n",
        "Ys2.append(envoltoria[0].y)\n",
        "\n",
        "\n",
        "#esses sao os pontos usados na varredura\n",
        "line_segments = [Segment(pontos[i], pontos[i+1]) for i in range(len(pontos)-1)]\n",
        "line_segments.append(Segment(pontos[-1], pontos[0]))\n",
        "\n",
        "for p in envoltoria:\n",
        "    print(f\"X: {p.x}, Y: {p.y}\")\n",
        "\n",
        "#estao sendo dispostos aqui\n",
        "for segment in line_segments:\n",
        "    print(f\"Left Point: ({segment.left.x}, {segment.left.y}), Right Point: ({segment.right.x}, {segment.right.y})\")\n",
        "\n",
        "# Plotando um gráfico de barras\n",
        "plt.scatter(Xs1, Ys1)\n",
        "plt.plot(Xs2, Ys2, linestyle='-', marker='o', color='orange')\n",
        "plt.xlabel('x')\n",
        "plt.ylabel('x')\n",
        "plt.title('Envoltória Convexa')\n",
        "plt.show()"
      ]
    },
    {
      "cell_type": "code",
      "source": [],
      "metadata": {
        "id": "RUaZFsnBLv92"
      },
      "execution_count": null,
      "outputs": []
    },
    {
      "cell_type": "code",
      "execution_count": 103,
      "metadata": {
        "colab": {
          "base_uri": "https://localhost:8080/",
          "height": 472
        },
        "id": "U14IPhPnFALd",
        "outputId": "44cb1e0c-1a1c-4744-8572-697e0bb711c2"
      },
      "outputs": [
        {
          "output_type": "display_data",
          "data": {
            "text/plain": [
              "<Figure size 640x480 with 1 Axes>"
            ],
            "image/png": "[encoded data removed]"
          },
          "metadata": {}
        }
      ],
      "source": [
        "#funcao em python que resolve o problema da envoltoria automaticamente (util para verificar o funcinamento do giftwrapping)\n",
        "\n",
        "from scipy.spatial import ConvexHull\n",
        "\n",
        "# Gerar alguns pontos de exemplo\n",
        "np.random.seed(0)\n",
        "points = np.random.rand(30, 2)  # 30 pontos em 2D\n",
        "\n",
        "# Calcular a envoltória convexa\n",
        "hull = ConvexHull(points)\n",
        "\n",
        "# Plotar os pontos\n",
        "plt.scatter(points[:, 0], points[:, 1], label='Pontos')\n",
        "\n",
        "# Plotar a envoltória convexa\n",
        "for simplex in hull.simplices:\n",
        "    plt.plot(points[simplex, 0], points[simplex, 1], 'k-')\n",
        "\n",
        "# Destacar os vértices da envoltória convexa\n",
        "plt.plot(points[hull.vertices, 0], points[hull.vertices, 1], 'r.', markersize=10, label='Vértices da Envoltória Convexa')\n",
        "\n",
        "# Configurações adicionais do gráfico\n",
        "plt.title('Envoltória Convexa')\n",
        "plt.xlabel('Coordenada X')\n",
        "plt.ylabel('Coordenada Y')\n",
        "plt.legend()\n",
        "plt.grid(True)\n",
        "plt.show()\n"
      ]
    },
    {
      "cell_type": "code",
      "execution_count": 110,
      "metadata": {
        "id": "GE5QEl_uFALd"
      },
      "outputs": [],
      "source": [
        "# A point in 2D plane\n",
        "import bisect\n",
        "# Começa aqui. #Rafa\n",
        "\n",
        "# An event for sweep line algorithm\n",
        "# An event has a point, the position\n",
        "# of point (whether left or right) and\n",
        "# index of point in the original input\n",
        "# array of segments.\n",
        "class Event:\n",
        "    def __init__(self, x, y, isLeft, index):\n",
        "        self.x = x\n",
        "        self.y = y\n",
        "        self.isLeft = isLeft\n",
        "        self.index = index\n",
        "\n",
        "    # This is for maintaining the order in set.\n",
        "    def __lt__(self, e):\n",
        "        if self.y == e.y:\n",
        "            return self.x < e.x\n",
        "        return self.y < e.y\n",
        "\n",
        "# Given three collinear points p, q, r, the function checks if\n",
        "# point q lies on line segment 'pr'\n",
        "def onSegment(p, q, r):\n",
        "    if (q.x <= max(p.x, r.x) and q.x >= min(p.x, r.x) and\n",
        "        q.y <= max(p.y, r.y) and q.y >= min(p.y, r.y)):\n",
        "        return True\n",
        "    return False\n",
        "\n",
        "# To find orientation of ordered triplet (p, q, r).\n",
        "# The function returns following values\n",
        "# 0 --> p, q and r are collinear\n",
        "# 1 --> Clockwise\n",
        "# 2 --> Counterclockwise\n",
        "def orientation(p, q, r):\n",
        "    val = (q.y - p.y) * (r.x - q.x) - (q.x - p.x) * (r.y - q.y)\n",
        "    if val == 0:\n",
        "        return 0  # collinear\n",
        "    return 1 if val > 0 else 2  # clock or counterclock wise\n",
        "\n",
        "# The main function that returns true if line segment 'p1q1'\n",
        "# and 'p2q2' intersect.\n",
        "def doIntersect(s1, s2):\n",
        "    p1, q1, p2, q2 = s1.left, s1.right, s2.left, s2.right\n",
        "\n",
        "    # Find the four orientations needed for general and\n",
        "    # special cases\n",
        "    o1 = orientation(p1, q1, p2)\n",
        "    o2 = orientation(p1, q1, q2)\n",
        "    o3 = orientation(p2, q2, p1)\n",
        "    o4 = orientation(p2, q2, q1)\n",
        "\n",
        "    # General case\n",
        "    if o1 != o2 and o3 != o4:\n",
        "        return True\n",
        "\n",
        "    # Special Cases\n",
        "    # p1, q1 and p2 are collinear and p2 lies on segment p1q1\n",
        "    if o1 == 0 and onSegment(p1, p2, q1):\n",
        "        return True\n",
        "\n",
        "    # p1, q1 and q2 are collinear and q2 lies on segment p1q1\n",
        "    if o2 == 0 and onSegment(p1, q2, q1):\n",
        "        return True\n",
        "\n",
        "    # p2, q2 and p1 are collinear and p1 lies on segment p2q2\n",
        "    if o3 == 0 and onSegment(p2, p1, q2):\n",
        "        return True\n",
        "\n",
        "    # p2, q2 and q1 are collinear and q1 lies on segment p2q2\n",
        "    if o4 == 0 and onSegment(p2, q1, q2):\n",
        "        return True\n",
        "\n",
        "    return False  # Doesn't fall in any of the above cases\n",
        "\n",
        "\n",
        "# Find predecessor of iterator in s.\n",
        "    # index = sorted(s).index(it)\n",
        "    # return sorted(s)[index - 1] if index > 0 else None\n",
        "# Find predecessor of iterator in s.\n",
        "def pred(s, it):\n",
        "    prev_elem = None\n",
        "    for elem in s:\n",
        "        if elem.x == it.x and elem.y == it.y and elem.isLeft:\n",
        "            return prev_elem\n",
        "        if elem.isLeft:\n",
        "            prev_elem = elem\n",
        "    return None\n",
        "\n",
        "\n",
        "# Find successor of iterator in s.\n",
        "    # index = sorted(s).index(it)\n",
        "    # return sorted(s)[index + 1] if index < len(s) - 1 else None\n",
        "    # Find successor of iterator in s.\n",
        "def succ(s, it):\n",
        "    for elem in s:\n",
        "        if elem.x == it.x and elem.y == it.y and elem.isLeft:\n",
        "            next_elem = None\n",
        "            for e in s:\n",
        "                if e.x > it.x or (e.x == it.x and e.y > it.y):\n",
        "                    if next_elem is None or (e.x < next_elem.x or (e.x == next_elem.x and e.y < next_elem.y)):\n",
        "                        next_elem = e\n",
        "            return next_elem\n",
        "    return None\n",
        "\n",
        "\n",
        "\n",
        "# Returns true if any two lines intersect.\n",
        "def isIntersect(arr, n):\n",
        "    mp = {}  # Dicionário para manter o registro dos pares para os quais a interseção já foi verificada\n",
        "\n",
        "    # Adiciona todos os pontos a um veotr de eventos\n",
        "    e = []\n",
        "    for i in range(n):\n",
        "        e.append(Event(arr[i].left.x, arr[i].left.y, True, i))\n",
        "        e.append(Event(arr[i].right.x, arr[i].right.y, False, i))\n",
        "\n",
        "    # Ordena todos os eventos de acordo com a coordenada x.\n",
        "    e.sort(key=lambda x: x.x)\n",
        "\n",
        "    # Para armazenar os segmentos ativos.\n",
        "    s = set()\n",
        "\n",
        "    ans = 0  # Inicializa o contador de interseções\n",
        "    intersection_points = []  # Inicializa uma lista vazia para armazenar os pontos de intersecao\n",
        "\n",
        "    for i in range(2 * n):\n",
        "        curr = e[i]\n",
        "        index = curr.index\n",
        "\n",
        "        if curr.isLeft:\n",
        "            next = succ(s, curr)  # Encontra o próximo segmento ativo\n",
        "            prev = pred(s, curr)  # Encontra o segmento ativo anterior\n",
        "            flag = False\n",
        "            if next is not None and doIntersect(arr[next.index], arr[index]):\n",
        "                intersection_points.append((arr[next.index].left, arr[index].left))\n",
        "                # Se o próximo segmento ativo se intersecta com o segmento atual, adiciona o ponto de intersecao a lista\n",
        "            if prev is not None and doIntersect(arr[prev.index], arr[index]):\n",
        "                intersection_points.append((arr[prev.index].left, arr[index].left))\n",
        "                # Se o segmento ativo anterior se intersecta com o segmento atual, adiciona o ponto de intersecao a lista\n",
        "            if prev is not None and next is not None and next.index == prev.index:\n",
        "                ans -= 1\n",
        "                # Se o próximo e o anterior forem os mesmos segmentos, significa que o ponto de interseção foi contado duas vezes, então decrementa o contador de interseções\n",
        "\n",
        "            s.add(curr)  # Adiciona o segmento atual ao conjunto de semgentos ativos\n",
        "        else:\n",
        "            it = None\n",
        "            for elem in s:\n",
        "                if elem.x == arr[index].left.x and elem.y == arr[index].left.y and elem.isLeft:\n",
        "                    it = elem\n",
        "                    break\n",
        "                # Encontra o iterador correspondente ao segmento atual no conjunto de segmentos ativos\n",
        "            if it is not None:\n",
        "                next = succ(s, it)  # encontra o próximo segmento ativo\n",
        "                prev = pred(s, it)  # encontra o segmento ativo anterior\n",
        "\n",
        "                if next is not None and prev is not None:\n",
        "                    if doIntersect(arr[prev.index], arr[next.index]):\n",
        "                        intersection_points.append((arr[prev.index].left, arr[next.index].left))\n",
        "                        # Se o segmento ativo anterior e o próximo se intersectam, adiciona o ponto de interseção a lista\n",
        "\n",
        "                s.remove(it)  # remove o segmento atual do conjunto de segmentos ativos\n",
        "\n",
        "    return intersection_points, ans  # Retorna a lista de pontos de interseção e a contagem de interseções\n",
        "\n",
        "#n = len(line_segments)\n",
        "#print(f\"Number of intersection points: {isIntersect(line_segments, n)}\")\n",
        "n = len(line_segments)\n",
        "intersection_points, count = isIntersect(line_segments, n)\n"
      ]
    },
    {
      "cell_type": "code",
      "source": [],
      "metadata": {
        "id": "EXB3VFBwN572"
      },
      "execution_count": 88,
      "outputs": []
    },
    {
      "cell_type": "code",
      "source": [
        "n = len(line_segments)\n",
        "intersection_points, count = isIntersect(line_segments, n)\n",
        "\n",
        "for point_pair in intersection_points:\n",
        "    print(f\"Intersection Point 1: ({point_pair[0].x}, {point_pair[0].y}), Intersection Point 2: ({point_pair[1].x}, {point_pair[1].y})\")\n",
        "    # plt.scatter((point_pair[0].x,point_pair[0].y), (point_pair[1].x,point_pair[1].y) )\n",
        "    # plt.plot((point_pair[0].x,point_pair[0].y), (point_pair[1].x,point_pair[1].y), linestyle='-', marker='o', color='orange')\n",
        "    # plt.xlabel('x')\n",
        "    # plt.ylabel('x')\n",
        "    # plt.title('Envoltória Convexa')\n",
        "    # plt.scatter(Xs1, Ys1)\n",
        "    # plt.plot(Xs2, Ys2, linestyle='-', marker='o', color='orange')\n",
        "    # plt.xlabel('x')\n",
        "    # plt.ylabel('x')\n",
        "    # plt.show()\n",
        "\n",
        "#comentei porque isso plota os pontos e uma reta mostrando q eles se interceptam\n"
      ],
      "metadata": {
        "colab": {
          "base_uri": "https://localhost:8080/"
        },
        "id": "dNniiNbd2_Km",
        "outputId": "eb829e7f-4415-48c8-c498-73fc66c3d1f9"
      },
      "execution_count": 114,
      "outputs": [
        {
          "output_type": "stream",
          "name": "stdout",
          "text": [
            "Intersection Point 1: (0.26455561210462697, 0.7742336894342167), Intersection Point 2: (0.1433532874090464, 0.9446689170495839)\n",
            "Intersection Point 1: (0.2088767560948347, 0.16130951788499626), Intersection Point 2: (0.2894060929472011, 0.18319136200711683)\n",
            "Intersection Point 1: (0.4663107728563063, 0.24442559200160274), Intersection Point 2: (0.15896958364551972, 0.11037514116430513)\n",
            "Intersection Point 1: (0.07103605819788694, 0.08712929970154071), Intersection Point 2: (0.07103605819788694, 0.08712929970154071)\n",
            "Intersection Point 1: (0.4375872112626925, 0.8917730007820798), Intersection Point 2: (0.02021839744032572, 0.832619845547938)\n",
            "Intersection Point 1: (0.317983179393976, 0.41426299451466997), Intersection Point 2: (0.45615033221654855, 0.5684339488686485)\n",
            "Intersection Point 1: (0.5680445610939323, 0.925596638292661), Intersection Point 2: (0.5759464955561793, 0.9292961975762141)\n"
          ]
        }
      ]
    },
    {
      "cell_type": "code",
      "source": [],
      "metadata": {
        "id": "glmg_UnkKllb"
      },
      "execution_count": null,
      "outputs": []
    }
  ],
  "metadata": {
    "kernelspec": {
      "display_name": "Python 3",
      "language": "python",
      "name": "python3"
    },
    "language_info": {
      "codemirror_mode": {
        "name": "ipython",
        "version": 3
      },
      "file_extension": ".py",
      "mimetype": "text/x-python",
      "name": "python",
      "nbconvert_exporter": "python",
      "pygments_lexer": "ipython3",
      "version": "3.9.13"
    },
    "colab": {
      "provenance": []
    }
  },
  "nbformat": 4,
  "nbformat_minor": 0
}